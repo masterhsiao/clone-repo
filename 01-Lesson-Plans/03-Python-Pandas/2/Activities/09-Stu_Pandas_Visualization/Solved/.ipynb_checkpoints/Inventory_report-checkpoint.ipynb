{
 "cells": [
  {
   "cell_type": "code",
   "execution_count": 45,
   "id": "4b67d34e-28a6-4b11-940b-151e05f02049",
   "metadata": {},
   "outputs": [],
   "source": [
    "#import stuff\n",
    "import pandas as pd\n",
    "from pathlib import Path\n",
    "%matplotlib inline"
   ]
  },
  {
   "cell_type": "code",
   "execution_count": 46,
   "id": "9a293e6a-4e30-4db3-a13e-1ac2d0aea615",
   "metadata": {},
   "outputs": [
    {
     "data": {
      "text/plain": [
       "Sumner Vault          170\n",
       "Manteca Warehouse     106\n",
       "Manteca Bakery         29\n",
       "Transit                24\n",
       "Peterson Warehouse     10\n",
       "GLBC Warehouse          9\n",
       "Manteca Dry Mix         7\n",
       "Name: Location, dtype: int64"
      ]
     },
     "execution_count": 46,
     "metadata": {},
     "output_type": "execute_result"
    }
   ],
   "source": [
    "#set file path\n",
    "file_path = Path('../Resources/inventory_oct.csv')\n",
    "JS = pd.read_csv(file_path)\n",
    "JS.columns\n",
    "JS['Location'].value_counts()"
   ]
  },
  {
   "cell_type": "code",
   "execution_count": 47,
   "id": "a51ee32e-f340-4cb0-8db3-91284531b0d1",
   "metadata": {},
   "outputs": [],
   "source": [
    "#create variable equal to extended price of ingredients / packaging /\n",
    "#supplies in different locations\n",
    "Sumner_Vault = JS.loc[JS['Location'] == 'Sumner Vault', [' Ext. Price']]\n",
    "\n",
    "Sumner_Machinery_part = JS.loc[JS['Location'] == 'Sumner Machinery part', [' Ext. Price']]\n",
    "\n",
    "Manteca_Warehouse = JS.loc[JS['Location'] == 'Manteca Warehouse', [' Ext. Price']]\n",
    "\n",
    "Manteca_Bakery= JS.loc[JS['Location'] == 'Manteca Bakery', [' Ext. Price']]\n",
    "\n",
    "Transit = JS.loc[JS['Location'] == 'Transit', [' Ext. Price']]\n",
    "\n",
    "Manteca_Dry_Mix = JS.loc[JS['Location'] == 'Manteca Dry Mix', [' Ext. Price']]\n",
    "\n",
    "GLBC_Warehouse = JS.loc[JS['Location'] == 'GLBC Warehouse', [' Ext. Price']]\n",
    "\n",
    "Peterson_Warehouse = JS.loc[JS['Location'] == 'Peterson Warehouse', [' Ext. Price']]\n",
    "\n",
    "SVault = Sumner_Vault.sum()\n",
    "\n",
    "SMachine = Sumner_Machinery_part.sum()\n",
    "\n",
    "sumner_total = SVault + SMachine\n",
    "isumner_total = int(sumner_total)\n",
    "\n",
    "manteca_total = Manteca_Warehouse.sum() + Manteca_Bakery.sum() + Manteca_Dry_Mix.sum()\n",
    "imanteca_total = int(manteca_total)\n",
    "\n",
    "transit_total = Transit.sum()\n",
    "itransit_total =int(transit_total)\n",
    "\n",
    "GLBC_total = GLBC_Warehouse.sum()\n",
    "iGLBC_total = int(GLBC_total)\n",
    "\n",
    "Peterson_total = Peterson_Warehouse.sum()\n",
    "iPeterson_total = int(Peterson_total)\n",
    "\n",
    "\n",
    "Sumner_Vault_ing = JS.loc[(JS['Location'] == 'Sumner Vault') & (JS['Custom #'] == 'INGREDIENT'), [' Ext. Price']]\n",
    "Sumner_Vault_ing = Sumner_Vault_ing.sum()\n",
    "iSumner_Vault_ing = int(Sumner_Vault_ing)\n",
    "\n",
    "Sumner_Vault_pac = JS.loc[(JS['Location'] == 'Sumner Vault') & (JS['Custom #'] == 'PACKAGING'), [' Ext. Price']]\n",
    "Sumner_Vault_pac = Sumner_Vault_pac.sum()\n",
    "iSumner_Vault_pac = int(Sumner_Vault_pac)\n",
    "\n",
    "Sumner_Vault_supp = JS.loc[(JS['Location'] == 'Sumner Vault') & (JS['Custom #'] == 'SUPPLIES'), [' Ext. Price']]\n",
    "Sumner_Vault_supp = Sumner_Vault_supp.sum()\n",
    "iSumner_Vault_supp = int(Sumner_Vault_supp)\n",
    "\n",
    "Sumner_Vault_fin = JS.loc[(JS['Location'] == 'Sumner Vault') & (JS['Custom #'] == 'FINISHED GOODS'), [' Ext. Price']]\n",
    "Sumner_Vault_fin = Sumner_Vault_fin.sum()\n",
    "iSumner_Vault_fin = int(Sumner_Vault_fin)\n",
    "\n",
    "Manteca_Warehouse_ing = JS.loc[(JS['Location'] == 'Sumner Vault') & (JS['Custom #'] == 'INGREDIENT'), [' Ext. Price']]\n",
    "Manteca_Warehouse_ing = Manteca_Warehouse_ing.sum()\n",
    "iManteca_Warehouse_ing = int(Manteca_Warehouse_ing)\n",
    "\n",
    "Manteca_Warehouse_pac = JS.loc[(JS['Location'] == 'Sumner Vault') & (JS['Custom #'] == 'PACKAGING'), [' Ext. Price']]\n",
    "Manteca_Warehouse_pac = Manteca_Warehouse_pac.sum()\n",
    "iManteca_Warehouse_pac = int(Manteca_Warehouse_pac)\n",
    "\n",
    "Manteca_Warehouse_supp = JS.loc[(JS['Location'] == 'Sumner Vault') & (JS['Custom #'] == 'SUPPLIES'), [' Ext. Price']]\n",
    "Manteca_Warehouse_supp = Manteca_Warehouse_supp.sum()\n",
    "iManteca_Warehouse_supp = int(Manteca_Warehouse_supp)\n",
    "\n",
    "Manteca_Warehouse_fin = JS.loc[(JS['Location'] == 'Sumner Vault') & (JS['Custom #'] == 'FINISHED GOODS'), [' Ext. Price']]\n",
    "Manteca_Warehouse_fin = Manteca_Warehouse_fin.sum()\n",
    "iManteca_Warehouse_fin = int(Manteca_Warehouse_fin)\n"
   ]
  },
  {
   "cell_type": "code",
   "execution_count": 48,
   "id": "f6a422b1-8e87-4f4d-9012-e4f7ac5195ea",
   "metadata": {},
   "outputs": [],
   "source": [
    "#all of these are variables =\n",
    "\n",
    "#Add the Sumner categories\n",
    "#add the Manteca Categories\n",
    "#add the total Finished Goods\n",
    "#add total Ingredients\n",
    "#add total Supplies\n",
    "#Add total packaging\n"
   ]
  },
  {
   "cell_type": "code",
   "execution_count": 58,
   "id": "3857beaa-6cb6-4400-8b10-98810a5bafc0",
   "metadata": {},
   "outputs": [
    {
     "name": "stdout",
     "output_type": "stream",
     "text": [
      "What is the inventory date?   Enter:month/day/year\n"
     ]
    },
    {
     "name": "stdin",
     "output_type": "stream",
     "text": [
      " 10/21/2022\n"
     ]
    }
   ],
   "source": [
    "\n",
    "print(\"What is the inventory date?   Enter:month/day/year\")\n",
    "inventory_date = input()\n"
   ]
  },
  {
   "cell_type": "code",
   "execution_count": 61,
   "id": "92d2b2be-d15e-4686-b687-43ac251cfe20",
   "metadata": {},
   "outputs": [
    {
     "name": "stdout",
     "output_type": "stream",
     "text": [
      "CELEBRATION CAKE in IWI:$____\n"
     ]
    },
    {
     "name": "stdin",
     "output_type": "stream",
     "text": [
      " 10\n"
     ]
    },
    {
     "name": "stdout",
     "output_type": "stream",
     "text": [
      "CHOCOLATE CAKE in IWI:$____\n"
     ]
    },
    {
     "name": "stdin",
     "output_type": "stream",
     "text": [
      " 20\n"
     ]
    },
    {
     "name": "stdout",
     "output_type": "stream",
     "text": [
      "CELEBRATION CAKE in TRANSIT:$____\n"
     ]
    },
    {
     "name": "stdin",
     "output_type": "stream",
     "text": [
      " 10\n"
     ]
    },
    {
     "name": "stdout",
     "output_type": "stream",
     "text": [
      "CHOCOLATE CAKE in TRANSIT:$____\n"
     ]
    },
    {
     "name": "stdin",
     "output_type": "stream",
     "text": [
      " 30\n"
     ]
    }
   ],
   "source": [
    "#create an input question that ask for 4 totals\n",
    "#CELEBRATION\n",
    "#CHOCOLATE\n",
    "# IN TRANSIT TO IWI\n",
    "    #CELEBRATION\n",
    "    #CHOCOLATE\n",
    "    \n",
    "# SET ALL as variables\n",
    "print(\"CELEBRATION CAKE in IWI:$____\")\n",
    "CELEBRATION = input()\n",
    "print(\"CHOCOLATE CAKE in IWI:$____\")\n",
    "CHOCOLATE = input()\n",
    "\n",
    "CELEBRATION = int(CELEBRATION)\n",
    "CHOCOLATE = int(CHOCOLATE)\n",
    "\n",
    "print(\"CELEBRATION CAKE in TRANSIT:$____\")\n",
    "CELEBRATION_transit = input()\n",
    "print(\"CHOCOLATE CAKE in TRANSIT:$____\")\n",
    "CHOCOLATE_transit = input()\n",
    "\n",
    "CELEBRATION_transit = int(CELEBRATION_transit)\n",
    "CHOCOLATE_transit = int(CHOCOLATE_transit)\n",
    "\n",
    "\n",
    "IWI_TOTAL = CHOCOLATE_transit + CELEBRATION_transit + CHOCOLATE + CELEBRATION\n",
    "IWI_TOTAL = int(IWI_TOTAL)\n"
   ]
  },
  {
   "cell_type": "code",
   "execution_count": 64,
   "id": "43b2da5f-6331-40af-93cd-d9f43868c1e8",
   "metadata": {},
   "outputs": [
    {
     "name": "stdout",
     "output_type": "stream",
     "text": [
      "Inventory report of 10/21/2022\n",
      "\n",
      "Sumner Total:            $926,698\n",
      "Sumner Ingredients:      $581,704\n",
      "Sumner Packaging:        $171,640\n",
      "Sumner Supplies:           $0\n",
      "Sumner Finished Goods:   $173,353\n",
      "\n",
      "Manteca Total:           $263,236\n",
      "Manteca Ingredients:     $581,704\n",
      "Manteca Packaging:       $171,640\n",
      "Manteca Supplies:          $0\n",
      "Manteca Finished Goods:  $173,353\n",
      "\n",
      "Transit Total(not IWI):    $37,269\n",
      "Peterson Total:          $155,093\n",
      "GLBC Total:                    $0\n",
      "\n",
      "IWI TOTAL:                 $70\n",
      "Celebration in IWI:        $10\n",
      "Chocolate in IWI:          $20\n",
      "Celebration in Transit     $10\n",
      "Chocolate in Transit:      $30\n"
     ]
    }
   ],
   "source": [
    "#print out all locations, broken down into ext price with variables.\n",
    "print(f'Inventory report of {inventory_date}\\n')\n",
    "\n",
    "print(f'Sumner Total:            ${isumner_total:,d}\\nSumner Ingredients:      ${iSumner_Vault_ing:,d}\\nSumner Packaging:        ${iSumner_Vault_pac:,d}\\nSumner Supplies:           ${iSumner_Vault_supp:,d}\\nSumner Finished Goods:   ${iSumner_Vault_fin:,d}\\n')\n",
    "print(f'Manteca Total:           ${imanteca_total:,d}\\nManteca Ingredients:     ${iManteca_Warehouse_ing:,d}\\nManteca Packaging:       ${iManteca_Warehouse_pac:,d}\\nManteca Supplies:          ${iManteca_Warehouse_supp:,d}\\nManteca Finished Goods:  ${iManteca_Warehouse_fin:,d}\\n')\n",
    "print(f'Transit Total(not IWI):    ${itransit_total:,d}\\nPeterson Total:          ${iPeterson_total:,d}\\nGLBC Total:                    ${iGLBC_total:,d}\\n')\n",
    "print(F'IWI TOTAL:                 ${IWI_TOTAL:,d}\\nCelebration in IWI:        ${CELEBRATION:,d}\\nChocolate in IWI:          ${CHOCOLATE:d}\\nCelebration in Transit     ${CELEBRATION_transit:,d}\\nChocolate in Transit:      ${CHOCOLATE_transit:,d}')"
   ]
  },
  {
   "cell_type": "code",
   "execution_count": 73,
   "id": "2c921748-153d-4eda-bfa7-70f034aaf0a5",
   "metadata": {},
   "outputs": [],
   "source": [
    "# bonus points\n",
    "    #make the file save all variables into a dictionary with keyss, based on the\n",
    "    #variable then the date, then the value \n",
    "inventory_dict = {\n",
    "    \"Sumner\": {\n",
    "        \"Total\": isumner_total,\n",
    "        \"Ingredients\": iSumner_Vault_ing,\n",
    "        \"Packaging\": iSumner_Vault_pac,\n",
    "        \"Supplies\": iSumner_Vault_supp,\n",
    "        \"Finished Goods\": iSumner_Vault_fin\n",
    "    },\n",
    "    \"Manteca\": {\n",
    "        \"Total\": imanteca_total,\n",
    "        \"Ingredients\": iManteca_Warehouse_ing,\n",
    "        \"Packaging\": iManteca_Warehouse_pac,\n",
    "        \"Supplies\": iManteca_Warehouse_supp,\n",
    "        \"Finished Goods\": iManteca_Warehouse_fin\n",
    "    },\n",
    "    \"Transit\": {\n",
    "        \"Total\": itransit_total\n",
    "    },\n",
    "    \"Peterson\": {\n",
    "        \"Total\": iPeterson_total\n",
    "    },\n",
    "    \"GLBC\": {\n",
    "        \"Total\": iGLBC_total\n",
    "    },\n",
    "    \"IWI\": {\n",
    "        \"Total\": IWI_TOTAL,\n",
    "        \"Celebration\": CELEBRATION,\n",
    "        \"Chocolate\": CHOCOLATE,\n",
    "        \"Celebration_transit\": CELEBRATION_transit,\n",
    "        \"Chocolate_transit\": CHOCOLATE_transit\n",
    "    }\n",
    "        \n",
    "}\n",
    "\n",
    "\n",
    "    "
   ]
  },
  {
   "cell_type": "code",
   "execution_count": 77,
   "id": "64f441b7-9aa6-4db4-ae27-717c6b1a52a8",
   "metadata": {},
   "outputs": [
    {
     "name": "stdout",
     "output_type": "stream",
     "text": [
      "[{'Sumner': {'Total': 926698, 'Ingredients': 581704, 'Packaging': 171640, 'Supplies': 0, 'Finished Goods': 173353}, 'Manteca': {'Total': 263236, 'Ingredients': 581704, 'Packaging': 171640, 'Supplies': 0, 'Finished Goods': 173353}, 'Transit': {'Total': 37269}, 'Peterson': {'Total': 155093}, 'GLBC': {'Total': 0}, 'IWI': {'Total': 70, 'Celebration': 10, 'Chocolate': 20, 'Celebration_transit': 10, 'Chocolate_transit': 30}}]\n"
     ]
    }
   ],
   "source": [
    "#run the dictionary as a dataframe\n",
    "#create list of dictionaries\n",
    "Inventory_list = []\n",
    "\n",
    "Inventory_list.append(inventory)\n",
    "\n",
    "print(Inventory_list)\n",
    "\n",
    "\n",
    "#Jumpstock data frame = pd.dataframe(dictionary name)"
   ]
  },
  {
   "cell_type": "code",
   "execution_count": 94,
   "id": "735d4f24-c5c3-4bb0-9031-db9f1d0b7eb5",
   "metadata": {},
   "outputs": [
    {
     "data": {
      "text/html": [
       "<div>\n",
       "<style scoped>\n",
       "    .dataframe tbody tr th:only-of-type {\n",
       "        vertical-align: middle;\n",
       "    }\n",
       "\n",
       "    .dataframe tbody tr th {\n",
       "        vertical-align: top;\n",
       "    }\n",
       "\n",
       "    .dataframe thead th {\n",
       "        text-align: right;\n",
       "    }\n",
       "</style>\n",
       "<table border=\"1\" class=\"dataframe\">\n",
       "  <thead>\n",
       "    <tr style=\"text-align: right;\">\n",
       "      <th></th>\n",
       "      <th>Sumner</th>\n",
       "      <th>Manteca</th>\n",
       "      <th>Transit</th>\n",
       "      <th>Peterson</th>\n",
       "      <th>GLBC</th>\n",
       "      <th>IWI</th>\n",
       "    </tr>\n",
       "  </thead>\n",
       "  <tbody>\n",
       "    <tr>\n",
       "      <th>Total</th>\n",
       "      <td>926698.0</td>\n",
       "      <td>263236.0</td>\n",
       "      <td>37269.0</td>\n",
       "      <td>155093.0</td>\n",
       "      <td>0.0</td>\n",
       "      <td>70.0</td>\n",
       "    </tr>\n",
       "    <tr>\n",
       "      <th>Ingredients</th>\n",
       "      <td>581704.0</td>\n",
       "      <td>581704.0</td>\n",
       "      <td>0.0</td>\n",
       "      <td>0.0</td>\n",
       "      <td>0.0</td>\n",
       "      <td>0.0</td>\n",
       "    </tr>\n",
       "    <tr>\n",
       "      <th>Packaging</th>\n",
       "      <td>171640.0</td>\n",
       "      <td>171640.0</td>\n",
       "      <td>0.0</td>\n",
       "      <td>0.0</td>\n",
       "      <td>0.0</td>\n",
       "      <td>0.0</td>\n",
       "    </tr>\n",
       "    <tr>\n",
       "      <th>Supplies</th>\n",
       "      <td>0.0</td>\n",
       "      <td>0.0</td>\n",
       "      <td>0.0</td>\n",
       "      <td>0.0</td>\n",
       "      <td>0.0</td>\n",
       "      <td>0.0</td>\n",
       "    </tr>\n",
       "    <tr>\n",
       "      <th>Finished Goods</th>\n",
       "      <td>173353.0</td>\n",
       "      <td>173353.0</td>\n",
       "      <td>0.0</td>\n",
       "      <td>0.0</td>\n",
       "      <td>0.0</td>\n",
       "      <td>0.0</td>\n",
       "    </tr>\n",
       "  </tbody>\n",
       "</table>\n",
       "</div>"
      ],
      "text/plain": [
       "                  Sumner   Manteca  Transit  Peterson  GLBC   IWI\n",
       "Total           926698.0  263236.0  37269.0  155093.0   0.0  70.0\n",
       "Ingredients     581704.0  581704.0      0.0       0.0   0.0   0.0\n",
       "Packaging       171640.0  171640.0      0.0       0.0   0.0   0.0\n",
       "Supplies             0.0       0.0      0.0       0.0   0.0   0.0\n",
       "Finished Goods  173353.0  173353.0      0.0       0.0   0.0   0.0"
      ]
     },
     "execution_count": 94,
     "metadata": {},
     "output_type": "execute_result"
    }
   ],
   "source": [
    "report = pd.DataFrame(inventory_dict)\n",
    "report = report.fillna(0)\n",
    "report.head()\n",
    "\n",
    "\n"
   ]
  },
  {
   "cell_type": "code",
   "execution_count": null,
   "id": "151fa95f-756e-4419-a803-c741fd7d4258",
   "metadata": {},
   "outputs": [],
   "source": []
  }
 ],
 "metadata": {
  "kernelspec": {
   "display_name": "Python 3 (ipykernel)",
   "language": "python",
   "name": "python3"
  },
  "language_info": {
   "codemirror_mode": {
    "name": "ipython",
    "version": 3
   },
   "file_extension": ".py",
   "mimetype": "text/x-python",
   "name": "python",
   "nbconvert_exporter": "python",
   "pygments_lexer": "ipython3",
   "version": "3.7.15"
  }
 },
 "nbformat": 4,
 "nbformat_minor": 5
}
