{
 "cells": [
  {
   "cell_type": "code",
   "execution_count": 2,
   "id": "e74930ac-6895-4820-8c04-e565ed84379f",
   "metadata": {},
   "outputs": [
    {
     "name": "stdout",
     "output_type": "stream",
     "text": [
      "3\n"
     ]
    }
   ],
   "source": [
    "# Create a list, `list_1`,  with `0`, `1`, `2`, `3` as values.\n",
    "list_1 = [0, 1, 2, 3]\n",
    "\n",
    "# Create a list, `list_2` with `4`, `5`, `6`, `7` as values.\n",
    "list_2 = [4, 5, 6, 7]\n",
    "\n",
    "# Create a list, `list_3` with `8`, `9`, `10`, `11` as values.\n",
    "list_3 = [8, 9, 10, 11]\n",
    "\n",
    "# Create a list, `list_4` with `12`, `13`, `14`, `15` as values.\n",
    "list_4 = [12, 13, 14, 15]\n",
    "\n",
    "# Print the 3rd index of `list_1`.\n",
    "print(list_1[3])\n",
    "\n",
    "# Print the 1st index of `list_2`.\n",
    "\n",
    "\n",
    "# Print the 2nd index of `list_3`.\n",
    "\n",
    "\n",
    "# Print the 4th index of `list_4`.\n",
    "\n"
   ]
  },
  {
   "cell_type": "code",
   "execution_count": null,
   "id": "028e725f-25d9-4d2b-8906-1098103979a8",
   "metadata": {},
   "outputs": [],
   "source": []
  }
 ],
 "metadata": {
  "kernelspec": {
   "display_name": "Python 3 (ipykernel)",
   "language": "python",
   "name": "python3"
  },
  "language_info": {
   "codemirror_mode": {
    "name": "ipython",
    "version": 3
   },
   "file_extension": ".py",
   "mimetype": "text/x-python",
   "name": "python",
   "nbconvert_exporter": "python",
   "pygments_lexer": "ipython3",
   "version": "3.7.15"
  }
 },
 "nbformat": 4,
 "nbformat_minor": 5
}
