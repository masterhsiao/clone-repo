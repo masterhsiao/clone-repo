{
 "cells": [
  {
   "cell_type": "code",
   "execution_count": 5,
   "id": "de79c5fa-a9a1-4d86-832d-42e9065bcc3f",
   "metadata": {},
   "outputs": [
    {
     "name": "stdin",
     "output_type": "stream",
     "text": [
      "Welcome to the sandwich shop, what do I call you? happy\n"
     ]
    },
    {
     "name": "stdout",
     "output_type": "stream",
     "text": [
      "Hello happy\n"
     ]
    },
    {
     "name": "stdin",
     "output_type": "stream",
     "text": [
      "Are you here for a sandwich? (Y/N) Y\n",
      "What kind of sandwich would you like? apple pie\n"
     ]
    },
    {
     "name": "stdout",
     "output_type": "stream",
     "text": [
      "Please wait 10 min for your apple pie\n"
     ]
    }
   ],
   "source": [
    "# Declare a variable `welcome_name` as an input with a string of \"Welcome to the sandwich shop, what do I call you? \".\n",
    "welcome_name = input(\"Welcome to the sandwich shop, what do I call you?\")\n",
    "\n",
    "# Then print the string \"Hello\" concatenated with the variable `welcome_name`.\n",
    "print(f\"Hello {welcome_name}\")\n",
    "\n",
    "# Declare a variable `question_sandwich` as an input with a string of \"Are you here for a sandwich? (Y/N) \".\n",
    "\n",
    "question_sandwich = input(\"Are you here for a sandwich? (Y/N)\")\n",
    "\n",
    "# If `question_sandwich` is equal to \"Y\" or \"y\" declare a variable `food_prompt` as an input with a string of \"What kind of sandwich would you like?\".\n",
    "if question_sandwich == \"Y\" or \"y\":\n",
    "    food_prompt = input(\"What kind of sandwich would you like?\")\n",
    "# Then print a string of \"Please wait 10 min for your \" concatenated with the variable `food_prompt`.\n",
    "    print(f\"Please wait 10 min for your {food_prompt}\")\n",
    "# Else If `question_sandwich` is \"N\" or \"n\", print a string of \"If you don't want a sandwich what are you here for?!\".\n",
    "elif question_sandwich == \"N\" or \"n\":\n",
    "        print(\"If you don't want a sandwich what are you here for?!\")\n",
    "# Else print a string of \"You did not write Y or N!\"\n",
    "else:\n",
    "    print(\"You did not write Y or N\")\n",
    "\n"
   ]
  },
  {
   "cell_type": "code",
   "execution_count": null,
   "id": "91a84536-b61e-4ee5-989a-2e45125abbc8",
   "metadata": {},
   "outputs": [],
   "source": []
  }
 ],
 "metadata": {
  "kernelspec": {
   "display_name": "Python 3 (ipykernel)",
   "language": "python",
   "name": "python3"
  },
  "language_info": {
   "codemirror_mode": {
    "name": "ipython",
    "version": 3
   },
   "file_extension": ".py",
   "mimetype": "text/x-python",
   "name": "python",
   "nbconvert_exporter": "python",
   "pygments_lexer": "ipython3",
   "version": "3.7.15"
  }
 },
 "nbformat": 4,
 "nbformat_minor": 5
}
