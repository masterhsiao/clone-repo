{
 "cells": [
  {
   "cell_type": "markdown",
   "id": "df77d04a-3375-42b1-8340-89b12470ec92",
   "metadata": {},
   "source": [
    "Decrypt an encrypted message. Encryption mechanism is inserting a random letter each single character after the first string. ilovefintech => ixlioz -- as a function that can be repeated for any message following the encryption scheme."
   ]
  },
  {
   "cell_type": "markdown",
   "id": "9ae6878c-4195-4e7a-84af-661fd10189d7",
   "metadata": {},
   "source": [
    "'CxowdwidnfgcisswCgohojlk' - remove quotes"
   ]
  },
  {
   "cell_type": "markdown",
   "id": "2914c170-51d6-4e9f-a051-73f67411e773",
   "metadata": {},
   "source": [
    "Python, strings are iterables - loop through string. For loop, and for each character in the string, check if letter is every other char. If it's an even, then print out otherwise skip."
   ]
  },
  {
   "cell_type": "code",
   "execution_count": 2,
   "id": "1e8437a9-cce3-4254-bdf4-3bc573da3031",
   "metadata": {},
   "outputs": [
    {
     "name": "stdout",
     "output_type": "stream",
     "text": [
      "C\n",
      "o\n",
      "d\n",
      "i\n",
      "n\n",
      "g\n",
      "i\n",
      "s\n",
      "C\n",
      "o\n",
      "o\n",
      "l\n"
     ]
    }
   ],
   "source": [
    "message = \"CxowdwidnfgcisswCgohojlk\"\n",
    "\n",
    "i = 1\n",
    "for letter in message:\n",
    "    if i == 1:\n",
    "        print(letter)\n",
    "        i = 0\n",
    "    else:\n",
    "        i += 1"
   ]
  },
  {
   "cell_type": "code",
   "execution_count": 3,
   "id": "5863039c-db2c-4e89-89a4-48217feef6de",
   "metadata": {},
   "outputs": [
    {
     "name": "stdout",
     "output_type": "stream",
     "text": [
      "C\n",
      "o\n",
      "d\n",
      "i\n",
      "n\n",
      "g\n",
      "i\n",
      "s\n",
      "C\n",
      "o\n",
      "o\n",
      "l\n"
     ]
    }
   ],
   "source": [
    "def decrypt_message(input_string):\n",
    "    i = 1\n",
    "    for letter in input_string:\n",
    "        if i == 1:\n",
    "            print(letter)\n",
    "            i = 0\n",
    "        else:\n",
    "            i += 1\n",
    "            \n",
    "decrypt_message(message)"
   ]
  },
  {
   "cell_type": "code",
   "execution_count": 6,
   "id": "81599be9-1980-48d1-89c6-2ffe0b947217",
   "metadata": {},
   "outputs": [
    {
     "name": "stdout",
     "output_type": "stream",
     "text": [
      "C\n",
      "o\n",
      "d\n",
      "i\n",
      "n\n",
      "g\n",
      "i\n",
      "s\n",
      "C\n",
      "o\n",
      "o\n",
      "l\n"
     ]
    }
   ],
   "source": [
    "for index, letter in enumerate(message):\n",
    "    if index % 2 == 0:\n",
    "        print(letter)"
   ]
  },
  {
   "cell_type": "code",
   "execution_count": 8,
   "id": "8fc3014c-0a94-40c5-8449-4f0e810e4bdf",
   "metadata": {},
   "outputs": [],
   "source": [
    "def decrypt_message(input_string):\n",
    "    for index, letter in enumerate(input_string):\n",
    "        if index % 2 == 0:\n",
    "            print(letter)"
   ]
  },
  {
   "cell_type": "code",
   "execution_count": 9,
   "id": "e1f89b82-0753-4b46-848e-3379ce47e07e",
   "metadata": {},
   "outputs": [
    {
     "name": "stdout",
     "output_type": "stream",
     "text": [
      "C\n",
      "o\n",
      "d\n",
      "i\n",
      "n\n",
      "g\n",
      "i\n",
      "s\n",
      "C\n",
      "o\n",
      "o\n",
      "l\n"
     ]
    }
   ],
   "source": [
    "decrypt_message(message)"
   ]
  },
  {
   "cell_type": "code",
   "execution_count": 12,
   "id": "5fe1128b-013c-4674-b0e4-2aaa1d0bb86c",
   "metadata": {},
   "outputs": [
    {
     "name": "stdout",
     "output_type": "stream",
     "text": [
      "H\n",
      "i\n",
      "!\n"
     ]
    }
   ],
   "source": [
    "new_message = \"Hxiz!\"\n",
    "decrypt_message(new_message)"
   ]
  },
  {
   "cell_type": "code",
   "execution_count": null,
   "id": "55e61f18-3f37-4b8b-94ed-5d525e77c7d9",
   "metadata": {},
   "outputs": [],
   "source": []
  }
 ],
 "metadata": {
  "kernelspec": {
   "display_name": "Python 3 (ipykernel)",
   "language": "python",
   "name": "python3"
  },
  "language_info": {
   "codemirror_mode": {
    "name": "ipython",
    "version": 3
   },
   "file_extension": ".py",
   "mimetype": "text/x-python",
   "name": "python",
   "nbconvert_exporter": "python",
   "pygments_lexer": "ipython3",
   "version": "3.7.7"
  }
 },
 "nbformat": 4,
 "nbformat_minor": 5
}
