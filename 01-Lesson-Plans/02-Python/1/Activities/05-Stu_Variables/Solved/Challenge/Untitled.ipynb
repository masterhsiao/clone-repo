{
 "cells": [
  {
   "cell_type": "code",
   "execution_count": 1,
   "id": "5eb509c9-9c49-4da2-9d97-dbeb1232a531",
   "metadata": {},
   "outputs": [
    {
     "name": "stdout",
     "output_type": "stream",
     "text": [
      "Apple's original stock price was $198.87\n",
      "Apple's current stock price is $254.32\n",
      "Apple's stock price increased by 27.88%\n"
     ]
    }
   ],
   "source": [
    "# Percent Increase Challenge Activity\n",
    "\n",
    "# Increase = Current Price - Original Price\n",
    "# Percent Increase = Increase / Original x 100\n",
    "\n",
    "# Create float variable for original_price\n",
    "original_price = 198.87\n",
    "\n",
    "# Create float variable for current_price\n",
    "current_price = 254.32\n",
    "\n",
    "# Calculate difference between current_price and original_price\n",
    "increase = current_price - original_price\n",
    "\n",
    "# Calculate percent increase\n",
    "percent_increase = (increase / original_price) * 100\n",
    "\n",
    "# Print original_price\n",
    "print(f\"Apple's original stock price was ${original_price}\")\n",
    "\n",
    "# Print current_price\n",
    "print(f\"Apple's current stock price is ${current_price}\")\n",
    "\n",
    "# Print percent increase\n",
    "print(\"Apple's stock price increased by\", \"{:.2f}%\".format(percent_increase))\n"
   ]
  },
  {
   "cell_type": "code",
   "execution_count": null,
   "id": "9fa2b736-c1de-4524-8330-ca211d424457",
   "metadata": {},
   "outputs": [],
   "source": []
  }
 ],
 "metadata": {
  "kernelspec": {
   "display_name": "Python 3 (ipykernel)",
   "language": "python",
   "name": "python3"
  },
  "language_info": {
   "codemirror_mode": {
    "name": "ipython",
    "version": 3
   },
   "file_extension": ".py",
   "mimetype": "text/x-python",
   "name": "python",
   "nbconvert_exporter": "python",
   "pygments_lexer": "ipython3",
   "version": "3.7.7"
  }
 },
 "nbformat": 4,
 "nbformat_minor": 5
}
